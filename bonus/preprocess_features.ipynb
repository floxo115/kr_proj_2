{
 "cells": [
  {
   "cell_type": "code",
   "execution_count": 1,
   "id": "8bc7556b",
   "metadata": {},
   "outputs": [],
   "source": [
    "import pandas as pd"
   ]
  },
  {
   "cell_type": "code",
   "execution_count": 2,
   "id": "3da2e84d",
   "metadata": {},
   "outputs": [
    {
     "data": {
      "text/plain": [
       "891"
      ]
     },
     "execution_count": 2,
     "metadata": {},
     "output_type": "execute_result"
    }
   ],
   "source": [
    "data = pd.read_csv(\"Titanic-Dataset.csv\")\n",
    "selected_columns = ['PassengerId', 'Survived', 'Pclass', 'Sex', 'Age', 'SibSp', 'Parch', 'Fare', 'Embarked']\n",
    "data = data[selected_columns]\n",
    "data.shape[0]"
   ]
  },
  {
   "cell_type": "code",
   "execution_count": 3,
   "id": "07a23589",
   "metadata": {},
   "outputs": [
    {
     "data": {
      "text/html": [
       "<div>\n",
       "<style scoped>\n",
       "    .dataframe tbody tr th:only-of-type {\n",
       "        vertical-align: middle;\n",
       "    }\n",
       "\n",
       "    .dataframe tbody tr th {\n",
       "        vertical-align: top;\n",
       "    }\n",
       "\n",
       "    .dataframe thead th {\n",
       "        text-align: right;\n",
       "    }\n",
       "</style>\n",
       "<table border=\"1\" class=\"dataframe\">\n",
       "  <thead>\n",
       "    <tr style=\"text-align: right;\">\n",
       "      <th></th>\n",
       "      <th>PassengerId</th>\n",
       "      <th>Survived</th>\n",
       "      <th>Pclass</th>\n",
       "      <th>Sex</th>\n",
       "      <th>Age</th>\n",
       "      <th>SibSp</th>\n",
       "      <th>Parch</th>\n",
       "      <th>Fare</th>\n",
       "      <th>Embarked</th>\n",
       "    </tr>\n",
       "  </thead>\n",
       "  <tbody>\n",
       "    <tr>\n",
       "      <th>0</th>\n",
       "      <td>1</td>\n",
       "      <td>0</td>\n",
       "      <td>3</td>\n",
       "      <td>male</td>\n",
       "      <td>22.0</td>\n",
       "      <td>1</td>\n",
       "      <td>0</td>\n",
       "      <td>7.2500</td>\n",
       "      <td>S</td>\n",
       "    </tr>\n",
       "    <tr>\n",
       "      <th>1</th>\n",
       "      <td>2</td>\n",
       "      <td>1</td>\n",
       "      <td>1</td>\n",
       "      <td>female</td>\n",
       "      <td>38.0</td>\n",
       "      <td>1</td>\n",
       "      <td>0</td>\n",
       "      <td>71.2833</td>\n",
       "      <td>C</td>\n",
       "    </tr>\n",
       "    <tr>\n",
       "      <th>2</th>\n",
       "      <td>3</td>\n",
       "      <td>1</td>\n",
       "      <td>3</td>\n",
       "      <td>female</td>\n",
       "      <td>26.0</td>\n",
       "      <td>0</td>\n",
       "      <td>0</td>\n",
       "      <td>7.9250</td>\n",
       "      <td>S</td>\n",
       "    </tr>\n",
       "    <tr>\n",
       "      <th>3</th>\n",
       "      <td>4</td>\n",
       "      <td>1</td>\n",
       "      <td>1</td>\n",
       "      <td>female</td>\n",
       "      <td>35.0</td>\n",
       "      <td>1</td>\n",
       "      <td>0</td>\n",
       "      <td>53.1000</td>\n",
       "      <td>S</td>\n",
       "    </tr>\n",
       "    <tr>\n",
       "      <th>4</th>\n",
       "      <td>5</td>\n",
       "      <td>0</td>\n",
       "      <td>3</td>\n",
       "      <td>male</td>\n",
       "      <td>35.0</td>\n",
       "      <td>0</td>\n",
       "      <td>0</td>\n",
       "      <td>8.0500</td>\n",
       "      <td>S</td>\n",
       "    </tr>\n",
       "    <tr>\n",
       "      <th>...</th>\n",
       "      <td>...</td>\n",
       "      <td>...</td>\n",
       "      <td>...</td>\n",
       "      <td>...</td>\n",
       "      <td>...</td>\n",
       "      <td>...</td>\n",
       "      <td>...</td>\n",
       "      <td>...</td>\n",
       "      <td>...</td>\n",
       "    </tr>\n",
       "    <tr>\n",
       "      <th>885</th>\n",
       "      <td>886</td>\n",
       "      <td>0</td>\n",
       "      <td>3</td>\n",
       "      <td>female</td>\n",
       "      <td>39.0</td>\n",
       "      <td>0</td>\n",
       "      <td>5</td>\n",
       "      <td>29.1250</td>\n",
       "      <td>Q</td>\n",
       "    </tr>\n",
       "    <tr>\n",
       "      <th>886</th>\n",
       "      <td>887</td>\n",
       "      <td>0</td>\n",
       "      <td>2</td>\n",
       "      <td>male</td>\n",
       "      <td>27.0</td>\n",
       "      <td>0</td>\n",
       "      <td>0</td>\n",
       "      <td>13.0000</td>\n",
       "      <td>S</td>\n",
       "    </tr>\n",
       "    <tr>\n",
       "      <th>887</th>\n",
       "      <td>888</td>\n",
       "      <td>1</td>\n",
       "      <td>1</td>\n",
       "      <td>female</td>\n",
       "      <td>19.0</td>\n",
       "      <td>0</td>\n",
       "      <td>0</td>\n",
       "      <td>30.0000</td>\n",
       "      <td>S</td>\n",
       "    </tr>\n",
       "    <tr>\n",
       "      <th>889</th>\n",
       "      <td>890</td>\n",
       "      <td>1</td>\n",
       "      <td>1</td>\n",
       "      <td>male</td>\n",
       "      <td>26.0</td>\n",
       "      <td>0</td>\n",
       "      <td>0</td>\n",
       "      <td>30.0000</td>\n",
       "      <td>C</td>\n",
       "    </tr>\n",
       "    <tr>\n",
       "      <th>890</th>\n",
       "      <td>891</td>\n",
       "      <td>0</td>\n",
       "      <td>3</td>\n",
       "      <td>male</td>\n",
       "      <td>32.0</td>\n",
       "      <td>0</td>\n",
       "      <td>0</td>\n",
       "      <td>7.7500</td>\n",
       "      <td>Q</td>\n",
       "    </tr>\n",
       "  </tbody>\n",
       "</table>\n",
       "<p>712 rows × 9 columns</p>\n",
       "</div>"
      ],
      "text/plain": [
       "     PassengerId  Survived  Pclass     Sex   Age  SibSp  Parch     Fare  \\\n",
       "0              1         0       3    male  22.0      1      0   7.2500   \n",
       "1              2         1       1  female  38.0      1      0  71.2833   \n",
       "2              3         1       3  female  26.0      0      0   7.9250   \n",
       "3              4         1       1  female  35.0      1      0  53.1000   \n",
       "4              5         0       3    male  35.0      0      0   8.0500   \n",
       "..           ...       ...     ...     ...   ...    ...    ...      ...   \n",
       "885          886         0       3  female  39.0      0      5  29.1250   \n",
       "886          887         0       2    male  27.0      0      0  13.0000   \n",
       "887          888         1       1  female  19.0      0      0  30.0000   \n",
       "889          890         1       1    male  26.0      0      0  30.0000   \n",
       "890          891         0       3    male  32.0      0      0   7.7500   \n",
       "\n",
       "    Embarked  \n",
       "0          S  \n",
       "1          C  \n",
       "2          S  \n",
       "3          S  \n",
       "4          S  \n",
       "..       ...  \n",
       "885        Q  \n",
       "886        S  \n",
       "887        S  \n",
       "889        C  \n",
       "890        Q  \n",
       "\n",
       "[712 rows x 9 columns]"
      ]
     },
     "execution_count": 3,
     "metadata": {},
     "output_type": "execute_result"
    }
   ],
   "source": [
    "data = data.dropna()\n",
    "data"
   ]
  },
  {
   "cell_type": "code",
   "execution_count": 4,
   "id": "064f5a19",
   "metadata": {},
   "outputs": [
    {
     "data": {
      "text/plain": [
       "Index(['PassengerId', 'Survived', 'Pclass', 'Sex', 'Age', 'SibSp', 'Parch',\n",
       "       'Fare', 'Embarked'],\n",
       "      dtype='object')"
      ]
     },
     "execution_count": 4,
     "metadata": {},
     "output_type": "execute_result"
    }
   ],
   "source": [
    "data.columns"
   ]
  },
  {
   "cell_type": "code",
   "execution_count": 5,
   "id": "6fa38bbf",
   "metadata": {},
   "outputs": [],
   "source": [
    "selected_columns = ['PassengerId', 'Survived', 'Pclass', 'Sex', 'Age', 'SibSp', 'Parch', 'Fare', 'Embarked']"
   ]
  },
  {
   "cell_type": "code",
   "execution_count": 6,
   "id": "3720f529",
   "metadata": {},
   "outputs": [],
   "source": [
    "data = data[selected_columns]"
   ]
  },
  {
   "cell_type": "code",
   "execution_count": 7,
   "id": "ab2aa820",
   "metadata": {},
   "outputs": [],
   "source": [
    "data.loc[:, \"Age\"] = data[\"Age\"].map(lambda x: int(x) if pd.notna(x) else pd.NA)"
   ]
  },
  {
   "cell_type": "markdown",
   "id": "749c1798",
   "metadata": {},
   "source": [
    "## categorize features"
   ]
  },
  {
   "cell_type": "code",
   "execution_count": 8,
   "id": "23734289",
   "metadata": {},
   "outputs": [],
   "source": [
    "def set_age(x):\n",
    "    if pd.isna(x):\n",
    "        return pd.NA\n",
    "    elif x < 18:\n",
    "        return \"minor\"\n",
    "    else:\n",
    "        return \"adult\"\n",
    "    \n",
    "age_cat = data.loc[:, \"Age\"].map(lambda x: set_age(x)).copy()\n",
    "data.loc[:, \"AgeCat\"] = age_cat\n",
    "\n",
    "embarked = data.loc[:, \"Embarked\"].map(lambda x: x.lower()).copy()\n",
    "data.loc[:, \"Embarked\"] = embarked"
   ]
  },
  {
   "cell_type": "code",
   "execution_count": 9,
   "id": "22d4b77f",
   "metadata": {},
   "outputs": [],
   "source": [
    "data.drop(columns=[\"Age\"], inplace=True)"
   ]
  },
  {
   "cell_type": "code",
   "execution_count": 10,
   "id": "a3bcb59d",
   "metadata": {},
   "outputs": [
    {
     "data": {
      "text/plain": [
       "AgeCat\n",
       "adult    599\n",
       "minor    113\n",
       "Name: count, dtype: int64"
      ]
     },
     "execution_count": 10,
     "metadata": {},
     "output_type": "execute_result"
    }
   ],
   "source": [
    "data[\"AgeCat\"].value_counts()"
   ]
  },
  {
   "cell_type": "markdown",
   "id": "f7ceb892",
   "metadata": {},
   "source": [
    "## creates background knowledge"
   ]
  },
  {
   "cell_type": "code",
   "execution_count": 11,
   "id": "8dd5b9e0",
   "metadata": {},
   "outputs": [],
   "source": [
    "f = open(\"properties\", \"w\")"
   ]
  },
  {
   "cell_type": "code",
   "execution_count": 12,
   "id": "01dd7c2f",
   "metadata": {},
   "outputs": [],
   "source": [
    "for pid in data[\"PassengerId\"]:\n",
    "    f.write(f\"passenger({pid}).\\n\")"
   ]
  },
  {
   "cell_type": "code",
   "execution_count": 13,
   "id": "ca7312f7",
   "metadata": {},
   "outputs": [],
   "source": [
    "for pid in data[\"PassengerId\"]:\n",
    "    pclass = data.loc[pid - 1, \"Pclass\"]\n",
    "    f.write(f\"class({pid}, {pclass}).\\n\")"
   ]
  },
  {
   "cell_type": "code",
   "execution_count": 14,
   "id": "0b1e2f46",
   "metadata": {},
   "outputs": [],
   "source": [
    "for pid in data[\"PassengerId\"]:\n",
    "    sex = data.loc[pid - 1, \"Sex\"]\n",
    "    f.write(f\"sex({pid}, {sex}).\\n\")"
   ]
  },
  {
   "cell_type": "code",
   "execution_count": 15,
   "id": "1dfb0e40",
   "metadata": {},
   "outputs": [],
   "source": [
    "for pid in data[\"PassengerId\"]:\n",
    "    age = data.loc[pid - 1, \"AgeCat\"]\n",
    "    f.write(f\"age({pid}, {age}).\\n\")"
   ]
  },
  {
   "cell_type": "code",
   "execution_count": 16,
   "id": "5564c612",
   "metadata": {},
   "outputs": [],
   "source": [
    "for pid in data[\"PassengerId\"]:\n",
    "    embarked = data.loc[pid - 1, \"Embarked\"]\n",
    "    f.write(f\"embarked({pid}, {embarked}).\\n\")"
   ]
  },
  {
   "cell_type": "code",
   "execution_count": 17,
   "id": "dd7cee99",
   "metadata": {},
   "outputs": [],
   "source": [
    "f = open(\"survived\", \"w\")\n",
    "for pid in data[\"PassengerId\"]:\n",
    "    if data.loc[pid - 1, \"Survived\"] == 1:\n",
    "        f.write(f\"survived({pid}).\\n\")"
   ]
  },
  {
   "cell_type": "code",
   "execution_count": 18,
   "id": "100e6cb8",
   "metadata": {},
   "outputs": [],
   "source": [
    "f = open(\"dead\", \"w\")\n",
    "for pid in data[\"PassengerId\"]:\n",
    "    if data.loc[pid - 1, \"Survived\"] == 0:\n",
    "        f.write(f\"survived({pid}).\\n\")"
   ]
  },
  {
   "cell_type": "markdown",
   "id": "615cbbda",
   "metadata": {},
   "source": [
    "## creates Popper examples"
   ]
  },
  {
   "cell_type": "code",
   "execution_count": 19,
   "id": "e99b2393",
   "metadata": {},
   "outputs": [],
   "source": [
    "f = open(\"examples\", \"w\")\n",
    "for pid in data[\"PassengerId\"]:\n",
    "    if data.loc[pid - 1, \"Survived\"] == 1:\n",
    "        f.write(f\"pos(survived({pid})).\\n\")\n",
    "\n",
    "f = open(\"examples\", \"a\")\n",
    "for pid in data[\"PassengerId\"]:\n",
    "    if data.loc[pid - 1, \"Survived\"] == 0:\n",
    "        f.write(f\"neg(survived({pid})).\\n\")"
   ]
  },
  {
   "cell_type": "code",
   "execution_count": null,
   "id": "ea2a1938",
   "metadata": {},
   "outputs": [],
   "source": []
  }
 ],
 "metadata": {
  "kernelspec": {
   "display_name": "datascience",
   "language": "python",
   "name": "python3"
  },
  "language_info": {
   "codemirror_mode": {
    "name": "ipython",
    "version": 3
   },
   "file_extension": ".py",
   "mimetype": "text/x-python",
   "name": "python",
   "nbconvert_exporter": "python",
   "pygments_lexer": "ipython3",
   "version": "3.10.14"
  }
 },
 "nbformat": 4,
 "nbformat_minor": 5
}
